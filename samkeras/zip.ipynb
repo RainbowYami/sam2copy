{
 "cells": [
  {
   "cell_type": "code",
   "execution_count": 9,
   "id": "025fe686-2ff5-4877-ad76-1c7b27c1db09",
   "metadata": {
    "tags": []
   },
   "outputs": [
    {
     "name": "stderr",
     "output_type": "stream",
     "text": [
      "Creating ZIP archive: 100%|██████████| 13/13 [00:00<00:00, 802.24it/s]\n"
     ]
    },
    {
     "data": {
      "text/html": [
       "<a href='samkeras.zip' target='_blank'>samkeras.zip</a><br>"
      ],
      "text/plain": [
       "/home/ec2-user/SageMaker/Sam2Keras/samkeras.zip"
      ]
     },
     "metadata": {},
     "output_type": "display_data"
    }
   ],
   "source": [
    "import zipfile\n",
    "import os\n",
    "from tqdm import tqdm\n",
    "\n",
    "# Specify the directory to zip (using the full path)\n",
    "directory_to_zip = \"/home/ec2-user/SageMaker/Sam2Keras\"\n",
    "\n",
    "# Get a list of all files and directories, excluding hidden ones\n",
    "files = [f for f in os.listdir(directory_to_zip) if not f.startswith('.')]\n",
    "\n",
    "# Create a ZIP archive of all non-hidden files in the specified directory with progress bar\n",
    "with tqdm(total=len(files), desc=\"Creating ZIP archive\") as pbar:\n",
    "    with zipfile.ZipFile(\"samkeras.zip\", 'w', zipfile.ZIP_DEFLATED) as archive:\n",
    "        for file in files:\n",
    "            # Construct the full path to the file\n",
    "            file_path = os.path.join(directory_to_zip, file)\n",
    "\n",
    "            # Add file to the archive with the correct filename encoding\n",
    "            archive.write(file_path, arcname=file)\n",
    "            pbar.update(1)  # Update the progress bar\n",
    "\n",
    "# Offer the ZIP archive for download (JupyterLab specific)\n",
    "from IPython.display import FileLink\n",
    "display(FileLink(\"samkeras.zip\"))"
   ]
  },
  {
   "cell_type": "code",
   "execution_count": 4,
   "id": "45233bfe-ded8-4a1d-b633-ba3a2df34dd2",
   "metadata": {
    "tags": []
   },
   "outputs": [
    {
     "name": "stdout",
     "output_type": "stream",
     "text": [
      "/home/ec2-user/SageMaker/Sam2Keras\n"
     ]
    }
   ],
   "source": [
    "import os\n",
    "print(os.getcwd())"
   ]
  },
  {
   "cell_type": "code",
   "execution_count": null,
   "id": "370d2909-39f2-42ff-ba2b-077daac0af7f",
   "metadata": {},
   "outputs": [],
   "source": []
  }
 ],
 "metadata": {
  "kernelspec": {
   "display_name": "conda_python3",
   "language": "python",
   "name": "conda_python3"
  },
  "language_info": {
   "codemirror_mode": {
    "name": "ipython",
    "version": 3
   },
   "file_extension": ".py",
   "mimetype": "text/x-python",
   "name": "python",
   "nbconvert_exporter": "python",
   "pygments_lexer": "ipython3",
   "version": "3.10.14"
  }
 },
 "nbformat": 4,
 "nbformat_minor": 5
}
